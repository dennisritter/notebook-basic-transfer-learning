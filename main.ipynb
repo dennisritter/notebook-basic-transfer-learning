{
 "cells": [
  {
   "cell_type": "code",
   "execution_count": 15,
   "metadata": {},
   "outputs": [
    {
     "name": "stdout",
     "output_type": "stream",
     "text": [
      "Requirement already satisfied: transformers in /home/dritter/.pyenv/versions/3.10.13/lib/python3.10/site-packages (from -r requirements.txt (line 1)) (4.36.0)\n",
      "Requirement already satisfied: datasets in /home/dritter/.pyenv/versions/3.10.13/lib/python3.10/site-packages (from -r requirements.txt (line 2)) (2.15.0)\n",
      "Collecting evaluate (from -r requirements.txt (line 3))\n",
      "  Using cached evaluate-0.4.1-py3-none-any.whl.metadata (9.4 kB)\n",
      "Requirement already satisfied: numpy in /home/dritter/.pyenv/versions/3.10.13/lib/python3.10/site-packages (from -r requirements.txt (line 4)) (1.24.1)\n",
      "Requirement already satisfied: scikit-learn in /home/dritter/.pyenv/versions/3.10.13/lib/python3.10/site-packages (from -r requirements.txt (line 5)) (1.3.2)\n",
      "Requirement already satisfied: filelock in /home/dritter/.pyenv/versions/3.10.13/lib/python3.10/site-packages (from transformers->-r requirements.txt (line 1)) (3.9.0)\n",
      "Requirement already satisfied: huggingface-hub<1.0,>=0.19.3 in /home/dritter/.pyenv/versions/3.10.13/lib/python3.10/site-packages (from transformers->-r requirements.txt (line 1)) (0.19.4)\n",
      "Requirement already satisfied: packaging>=20.0 in /home/dritter/.pyenv/versions/3.10.13/lib/python3.10/site-packages (from transformers->-r requirements.txt (line 1)) (23.2)\n",
      "Requirement already satisfied: pyyaml>=5.1 in /home/dritter/.pyenv/versions/3.10.13/lib/python3.10/site-packages (from transformers->-r requirements.txt (line 1)) (6.0.1)\n",
      "Requirement already satisfied: regex!=2019.12.17 in /home/dritter/.pyenv/versions/3.10.13/lib/python3.10/site-packages (from transformers->-r requirements.txt (line 1)) (2023.10.3)\n",
      "Requirement already satisfied: requests in /home/dritter/.pyenv/versions/3.10.13/lib/python3.10/site-packages (from transformers->-r requirements.txt (line 1)) (2.28.1)\n",
      "Requirement already satisfied: tokenizers<0.19,>=0.14 in /home/dritter/.pyenv/versions/3.10.13/lib/python3.10/site-packages (from transformers->-r requirements.txt (line 1)) (0.15.0)\n",
      "Requirement already satisfied: safetensors>=0.3.1 in /home/dritter/.pyenv/versions/3.10.13/lib/python3.10/site-packages (from transformers->-r requirements.txt (line 1)) (0.4.1)\n",
      "Requirement already satisfied: tqdm>=4.27 in /home/dritter/.pyenv/versions/3.10.13/lib/python3.10/site-packages (from transformers->-r requirements.txt (line 1)) (4.66.1)\n",
      "Requirement already satisfied: pyarrow>=8.0.0 in /home/dritter/.pyenv/versions/3.10.13/lib/python3.10/site-packages (from datasets->-r requirements.txt (line 2)) (14.0.1)\n",
      "Requirement already satisfied: pyarrow-hotfix in /home/dritter/.pyenv/versions/3.10.13/lib/python3.10/site-packages (from datasets->-r requirements.txt (line 2)) (0.6)\n",
      "Requirement already satisfied: dill<0.3.8,>=0.3.0 in /home/dritter/.pyenv/versions/3.10.13/lib/python3.10/site-packages (from datasets->-r requirements.txt (line 2)) (0.3.7)\n",
      "Requirement already satisfied: pandas in /home/dritter/.pyenv/versions/3.10.13/lib/python3.10/site-packages (from datasets->-r requirements.txt (line 2)) (2.1.4)\n",
      "Requirement already satisfied: xxhash in /home/dritter/.pyenv/versions/3.10.13/lib/python3.10/site-packages (from datasets->-r requirements.txt (line 2)) (3.4.1)\n",
      "Requirement already satisfied: multiprocess in /home/dritter/.pyenv/versions/3.10.13/lib/python3.10/site-packages (from datasets->-r requirements.txt (line 2)) (0.70.15)\n",
      "Requirement already satisfied: fsspec<=2023.10.0,>=2023.1.0 in /home/dritter/.pyenv/versions/3.10.13/lib/python3.10/site-packages (from fsspec[http]<=2023.10.0,>=2023.1.0->datasets->-r requirements.txt (line 2)) (2023.10.0)\n",
      "Requirement already satisfied: aiohttp in /home/dritter/.pyenv/versions/3.10.13/lib/python3.10/site-packages (from datasets->-r requirements.txt (line 2)) (3.9.1)\n",
      "Collecting responses<0.19 (from evaluate->-r requirements.txt (line 3))\n",
      "  Using cached responses-0.18.0-py3-none-any.whl (38 kB)\n",
      "Requirement already satisfied: scipy>=1.5.0 in /home/dritter/.pyenv/versions/3.10.13/lib/python3.10/site-packages (from scikit-learn->-r requirements.txt (line 5)) (1.11.4)\n",
      "Requirement already satisfied: joblib>=1.1.1 in /home/dritter/.pyenv/versions/3.10.13/lib/python3.10/site-packages (from scikit-learn->-r requirements.txt (line 5)) (1.3.2)\n",
      "Requirement already satisfied: threadpoolctl>=2.0.0 in /home/dritter/.pyenv/versions/3.10.13/lib/python3.10/site-packages (from scikit-learn->-r requirements.txt (line 5)) (3.2.0)\n",
      "Requirement already satisfied: attrs>=17.3.0 in /home/dritter/.pyenv/versions/3.10.13/lib/python3.10/site-packages (from aiohttp->datasets->-r requirements.txt (line 2)) (23.1.0)\n",
      "Requirement already satisfied: multidict<7.0,>=4.5 in /home/dritter/.pyenv/versions/3.10.13/lib/python3.10/site-packages (from aiohttp->datasets->-r requirements.txt (line 2)) (6.0.4)\n",
      "Requirement already satisfied: yarl<2.0,>=1.0 in /home/dritter/.pyenv/versions/3.10.13/lib/python3.10/site-packages (from aiohttp->datasets->-r requirements.txt (line 2)) (1.9.4)\n",
      "Requirement already satisfied: frozenlist>=1.1.1 in /home/dritter/.pyenv/versions/3.10.13/lib/python3.10/site-packages (from aiohttp->datasets->-r requirements.txt (line 2)) (1.4.0)\n",
      "Requirement already satisfied: aiosignal>=1.1.2 in /home/dritter/.pyenv/versions/3.10.13/lib/python3.10/site-packages (from aiohttp->datasets->-r requirements.txt (line 2)) (1.3.1)\n",
      "Requirement already satisfied: async-timeout<5.0,>=4.0 in /home/dritter/.pyenv/versions/3.10.13/lib/python3.10/site-packages (from aiohttp->datasets->-r requirements.txt (line 2)) (4.0.3)\n",
      "Requirement already satisfied: typing-extensions>=3.7.4.3 in /home/dritter/.pyenv/versions/3.10.13/lib/python3.10/site-packages (from huggingface-hub<1.0,>=0.19.3->transformers->-r requirements.txt (line 1)) (4.4.0)\n",
      "Requirement already satisfied: charset-normalizer<3,>=2 in /home/dritter/.pyenv/versions/3.10.13/lib/python3.10/site-packages (from requests->transformers->-r requirements.txt (line 1)) (2.1.1)\n",
      "Requirement already satisfied: idna<4,>=2.5 in /home/dritter/.pyenv/versions/3.10.13/lib/python3.10/site-packages (from requests->transformers->-r requirements.txt (line 1)) (3.4)\n",
      "Requirement already satisfied: urllib3<1.27,>=1.21.1 in /home/dritter/.pyenv/versions/3.10.13/lib/python3.10/site-packages (from requests->transformers->-r requirements.txt (line 1)) (1.26.13)\n",
      "Requirement already satisfied: certifi>=2017.4.17 in /home/dritter/.pyenv/versions/3.10.13/lib/python3.10/site-packages (from requests->transformers->-r requirements.txt (line 1)) (2022.12.7)\n",
      "Requirement already satisfied: python-dateutil>=2.8.2 in /home/dritter/.pyenv/versions/3.10.13/lib/python3.10/site-packages (from pandas->datasets->-r requirements.txt (line 2)) (2.8.2)\n",
      "Requirement already satisfied: pytz>=2020.1 in /home/dritter/.pyenv/versions/3.10.13/lib/python3.10/site-packages (from pandas->datasets->-r requirements.txt (line 2)) (2023.3.post1)\n",
      "Requirement already satisfied: tzdata>=2022.1 in /home/dritter/.pyenv/versions/3.10.13/lib/python3.10/site-packages (from pandas->datasets->-r requirements.txt (line 2)) (2023.3)\n",
      "Requirement already satisfied: six>=1.5 in /home/dritter/.pyenv/versions/3.10.13/lib/python3.10/site-packages (from python-dateutil>=2.8.2->pandas->datasets->-r requirements.txt (line 2)) (1.16.0)\n",
      "Using cached evaluate-0.4.1-py3-none-any.whl (84 kB)\n",
      "Installing collected packages: responses, evaluate\n",
      "Successfully installed evaluate-0.4.1 responses-0.18.0\n"
     ]
    }
   ],
   "source": [
    "# NOTE: Make sure you install pytorch, torchvision etc. before running this script\n",
    "!pip install -r requirements.txt"
   ]
  },
  {
   "cell_type": "code",
   "execution_count": null,
   "metadata": {},
   "outputs": [],
   "source": [
    "from transformers import AutoImageProcessor, AutoModelForImageClassification, Trainer, TrainingArguments\n",
    "from datasets import load_dataset, load_metric\n",
    "from torchvision.transforms import (\n",
    "    Compose,\n",
    "    Normalize,\n",
    "    RandomHorizontalFlip,\n",
    "    Resize,\n",
    "    ToTensor,\n",
    ")\n",
    "import torch\n",
    "import numpy as np"
   ]
  },
  {
   "cell_type": "code",
   "execution_count": null,
   "metadata": {},
   "outputs": [],
   "source": [
    "model_checkpoint = \"microsoft/swin-tiny-patch4-window7-224\"\n",
    "batch_size = 8\n",
    "out_dir = \"./out\""
   ]
  },
  {
   "cell_type": "code",
   "execution_count": null,
   "metadata": {},
   "outputs": [],
   "source": [
    "# load the dataset\n",
    "\n",
    "ds = load_dataset(\"food101\", split=\"train[:3000]\")\n",
    "splits = ds.train_test_split(test_size=0.2)\n",
    "\n",
    "train_ds = splits['train']\n",
    "val_ds = splits['test']\n",
    "\n",
    "\n",
    "labels = train_ds.features[\"label\"].names\n",
    "label2id, id2label = dict(), dict()\n",
    "for i, label in enumerate(labels):\n",
    "    label2id[label] = str(i)\n",
    "    id2label[str(i)] = label"
   ]
  },
  {
   "cell_type": "code",
   "execution_count": null,
   "metadata": {},
   "outputs": [],
   "source": [
    "print(train_ds)\n",
    "print(val_ds)"
   ]
  },
  {
   "cell_type": "code",
   "execution_count": null,
   "metadata": {},
   "outputs": [],
   "source": [
    "print(train_ds[0])"
   ]
  },
  {
   "cell_type": "code",
   "execution_count": null,
   "metadata": {},
   "outputs": [],
   "source": [
    "display(train_ds[0].get(\"image\").resize((224, 224)))\n",
    "id2label[str(train_ds[0].get(\"label\"))]"
   ]
  },
  {
   "cell_type": "code",
   "execution_count": null,
   "metadata": {},
   "outputs": [],
   "source": [
    "# Define the image transforms\n",
    "\n",
    "image_processor = AutoImageProcessor.from_pretrained(model_checkpoint)\n",
    "normalize = Normalize(mean=image_processor.image_mean, std=image_processor.image_std)\n",
    "size = (image_processor.size[\"height\"], image_processor.size[\"width\"])\n",
    "\n",
    "train_transforms = Compose(\n",
    "        [\n",
    "            Resize(size),\n",
    "            RandomHorizontalFlip(),\n",
    "            ToTensor(),\n",
    "            normalize,\n",
    "        ]\n",
    "    )\n",
    "\n",
    "val_transforms = Compose(\n",
    "        [\n",
    "            Resize(size),\n",
    "            RandomHorizontalFlip(),\n",
    "            ToTensor(),\n",
    "            normalize,\n",
    "        ]\n",
    "    )\n",
    "\n",
    "def preprocess_train(example_batch):\n",
    "    \"\"\"Apply train_transforms across a batch.\"\"\"\n",
    "    example_batch[\"pixel_values\"] = [\n",
    "        train_transforms(image.convert(\"RGB\")) for image in example_batch[\"image\"]\n",
    "    ]\n",
    "    return example_batch\n",
    "\n",
    "def preprocess_val(example_batch):\n",
    "    \"\"\"Apply val_transforms across a batch.\"\"\"\n",
    "    example_batch[\"pixel_values\"] = [val_transforms(image.convert(\"RGB\")) for image in example_batch[\"image\"]]\n",
    "    return example_batch\n",
    "\n",
    "train_ds.set_transform(preprocess_train)\n",
    "val_ds.set_transform(preprocess_val)\n"
   ]
  },
  {
   "cell_type": "code",
   "execution_count": null,
   "metadata": {},
   "outputs": [],
   "source": [
    "train_ds[0]"
   ]
  },
  {
   "cell_type": "code",
   "execution_count": null,
   "metadata": {},
   "outputs": [],
   "source": [
    "# Load the ViT model pre-traiend on ImageNet22K\n",
    "model = AutoModelForImageClassification.from_pretrained(model_checkpoint, label2id=label2id, id2label=id2label, ignore_mismatched_sizes=True)"
   ]
  },
  {
   "cell_type": "code",
   "execution_count": null,
   "metadata": {},
   "outputs": [],
   "source": [
    "# Set training arguments\n",
    "train_args = TrainingArguments(\n",
    "    output_dir='./out',\n",
    "    seed=42,\n",
    "    evaluation_strategy = \"epoch\",\n",
    "    save_strategy = \"epoch\",\n",
    "    learning_rate=5e-5,\n",
    "    num_train_epochs=3,\n",
    "    per_device_train_batch_size=batch_size,\n",
    "    per_device_eval_batch_size=batch_size,\n",
    "    warmup_ratio=0.1,\n",
    "    logging_steps=10,\n",
    "    weight_decay=0.01,\n",
    "    logging_dir='./logs',\n",
    "    load_best_model_at_end=True,\n",
    "    metric_for_best_model=\"accuracy\",\n",
    "    remove_unused_columns=False\n",
    ")\n"
   ]
  },
  {
   "cell_type": "code",
   "execution_count": null,
   "metadata": {},
   "outputs": [],
   "source": [
    "# collate_fn to be used when batching data\n",
    "def collate_fn(examples):\n",
    "    pixel_values = torch.stack([example[\"pixel_values\"] for example in examples])\n",
    "    labels = torch.tensor([example[\"label\"] for example in examples])\n",
    "    return {\"pixel_values\": pixel_values, \"labels\": labels}"
   ]
  },
  {
   "cell_type": "code",
   "execution_count": null,
   "metadata": {},
   "outputs": [],
   "source": [
    "metric = load_metric('accuracy')\n",
    "# the compute_metrics function takes a Named Tuple as input:\n",
    "# predictions, which are the logits of the model as Numpy arrays,\n",
    "# and label_ids, which are the ground-truth labels as Numpy arrays.\n",
    "def compute_metrics(eval_pred):\n",
    "    \"\"\"Computes accuracy on a batch of predictions\"\"\"\n",
    "    predictions = np.argmax(eval_pred.predictions, axis=1)\n",
    "    return metric.compute(predictions=predictions, references=eval_pred.label_ids)"
   ]
  },
  {
   "cell_type": "code",
   "execution_count": null,
   "metadata": {},
   "outputs": [],
   "source": [
    "trainer = Trainer(\n",
    "    model=model,\n",
    "    args=train_args,\n",
    "    train_dataset=train_ds,\n",
    "    eval_dataset=val_ds,\n",
    "    compute_metrics=compute_metrics,\n",
    "    data_collator=collate_fn,\n",
    ")"
   ]
  },
  {
   "cell_type": "code",
   "execution_count": null,
   "metadata": {},
   "outputs": [],
   "source": [
    "metrics = trainer.evaluate(val_ds)\n",
    "trainer.log_metrics(\"eval\", metrics)\n",
    "\n",
    "train_results = trainer.train()\n",
    "trainer.save_model()\n",
    "trainer.log_metrics(\"train\", train_results.metrics)\n",
    "trainer.save_metrics(\"train\", train_results.metrics)\n",
    "trainer.save_state()\n",
    "\n",
    "metrics = trainer.evaluate(val_ds)\n",
    "trainer.log_metrics(\"eval\", metrics)\n",
    "trainer.save_metrics(\"eval\", metrics)"
   ]
  }
 ],
 "metadata": {
  "kernelspec": {
   "display_name": "Python 3",
   "language": "python",
   "name": "python3"
  },
  "language_info": {
   "codemirror_mode": {
    "name": "ipython",
    "version": 3
   },
   "file_extension": ".py",
   "mimetype": "text/x-python",
   "name": "python",
   "nbconvert_exporter": "python",
   "pygments_lexer": "ipython3",
   "version": "3.10.13"
  }
 },
 "nbformat": 4,
 "nbformat_minor": 2
}
